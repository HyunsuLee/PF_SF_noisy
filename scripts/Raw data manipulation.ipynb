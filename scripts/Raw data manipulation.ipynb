{
 "cells": [
  {
   "cell_type": "markdown",
   "metadata": {},
   "source": [
    "## Data manipulation and visualization"
   ]
  },
  {
   "cell_type": "code",
   "execution_count": 19,
   "metadata": {},
   "outputs": [
    {
     "name": "stdout",
     "output_type": "stream",
     "text": [
      "The autoreload extension is already loaded. To reload it, use:\n",
      "  %reload_ext autoreload\n"
     ]
    }
   ],
   "source": [
    "# load library\n",
    "import pickle\n",
    "import numpy as np\n",
    "import pandas as pd\n",
    "import matplotlib.pyplot as plt\n",
    "import seaborn as sns\n",
    "plt.switch_backend('agg')\n",
    "plt.style.context('default')\n",
    "%matplotlib inline\n",
    "import matplotlib as mpl\n",
    "mpl.rcParams['figure.facecolor'] = 'white'\n",
    "\n",
    "from predecessor.utils import mean_across_trials, std_across_trials, get_last_reward\n",
    "from predecessor.utils import mean_across_episode, step_to_below_threshold_across_trials\n",
    "from predecessor.utils import moving_average_across_trials, get_dStep_dEpi\n",
    "\n",
    "%load_ext autoreload\n",
    "%autoreload 2 "
   ]
  },
  {
   "cell_type": "code",
   "execution_count": 20,
   "metadata": {},
   "outputs": [],
   "source": [
    "raw_file_name = \"noise1D_2023-12-22-11-09.pickle\"\n",
    "raw_folder = \"../results/pickles/\"\n",
    "processed_folder = \"../results/processed_pickles/\"\n",
    "raw_file = raw_folder + raw_file_name\n",
    "save_file_name = processed_folder + raw_file_name\n",
    "with open(raw_file, \"rb\") as f:\n",
    "    exp_dic = pickle.load(f)"
   ]
  },
  {
   "cell_type": "code",
   "execution_count": 21,
   "metadata": {},
   "outputs": [
    {
     "data": {
      "text/plain": [
       "dict_keys(['Q', 'SF', 'Q(lambda)', 'PF', 'params'])"
      ]
     },
     "execution_count": 21,
     "metadata": {},
     "output_type": "execute_result"
    }
   ],
   "source": [
    "exp_dic.keys()"
   ]
  },
  {
   "cell_type": "code",
   "execution_count": 22,
   "metadata": {},
   "outputs": [
    {
     "data": {
      "text/plain": [
       "{'env size': 20, 'total trials': 100, 'episode': 3000, 'max step length': 100}"
      ]
     },
     "execution_count": 22,
     "metadata": {},
     "output_type": "execute_result"
    }
   ],
   "source": [
    "params = exp_dic[\"params\"]\n",
    "params"
   ]
  },
  {
   "cell_type": "code",
   "execution_count": 23,
   "metadata": {},
   "outputs": [],
   "source": [
    "exp_dic[\"Q($\\lambda$)\"] = exp_dic.pop(\"Q(lambda)\")"
   ]
  },
  {
   "cell_type": "code",
   "execution_count": 24,
   "metadata": {},
   "outputs": [
    {
     "data": {
      "text/plain": [
       "dict_keys(['Q', 'SF', 'PF', 'Q($\\\\lambda$)'])"
      ]
     },
     "execution_count": 24,
     "metadata": {},
     "output_type": "execute_result"
    }
   ],
   "source": [
    "exp_dic.pop(\"params\")\n",
    "exp_dic.keys()"
   ]
  },
  {
   "cell_type": "code",
   "execution_count": 25,
   "metadata": {},
   "outputs": [],
   "source": [
    "algorithms = [\"Q\", \"SF\", \"Q($\\lambda$)\", \"PF\"]"
   ]
  },
  {
   "cell_type": "code",
   "execution_count": 26,
   "metadata": {},
   "outputs": [
    {
     "data": {
      "text/plain": [
       "[0.05, 0.25, 0.5]"
      ]
     },
     "execution_count": 26,
     "metadata": {},
     "output_type": "execute_result"
    }
   ],
   "source": [
    "noise_list = list(exp_dic[algorithms[0]].keys())\n",
    "noise_list"
   ]
  },
  {
   "cell_type": "code",
   "execution_count": 27,
   "metadata": {},
   "outputs": [
    {
     "data": {
      "text/plain": [
       "dict_keys([0, 0.7, 0.8, 0.9])"
      ]
     },
     "execution_count": 27,
     "metadata": {},
     "output_type": "execute_result"
    }
   ],
   "source": [
    "exp_dic[\"PF\"][0.05].keys()  # lambda"
   ]
  },
  {
   "cell_type": "code",
   "execution_count": 28,
   "metadata": {},
   "outputs": [
    {
     "data": {
      "text/plain": [
       "[0.7, 0.8, 0.9]"
      ]
     },
     "execution_count": 28,
     "metadata": {},
     "output_type": "execute_result"
    }
   ],
   "source": [
    "lambda_list = list(exp_dic[\"PF\"][0.05].keys())[1:]\n",
    "# lambda_list = [0] + lambda_list\n",
    "lambda_list"
   ]
  },
  {
   "cell_type": "code",
   "execution_count": 29,
   "metadata": {},
   "outputs": [
    {
     "data": {
      "text/plain": [
       "['noise_level', 'trials_step', 'trials_reward']"
      ]
     },
     "execution_count": 29,
     "metadata": {},
     "output_type": "execute_result"
    }
   ],
   "source": [
    "data_list = list(exp_dic[algorithms[1]][noise_list[0]][0].keys())\n",
    "data_list"
   ]
  },
  {
   "cell_type": "code",
   "execution_count": 30,
   "metadata": {},
   "outputs": [
    {
     "name": "stdout",
     "output_type": "stream",
     "text": [
      "trial dim 100\n",
      "episode dim 3000\n"
     ]
    }
   ],
   "source": [
    "print(\"trial dim\", len(exp_dic[algorithms[1]][noise_list[0]][0][\"trials_reward\"]))\n",
    "print(\"episode dim\", len(exp_dic[algorithms[1]][noise_list[0]][0][\"trials_reward\"][0]))"
   ]
  },
  {
   "cell_type": "code",
   "execution_count": 31,
   "metadata": {},
   "outputs": [],
   "source": [
    "# print(\"trial_q dim\", len(exp_dic[algorithms[1]][noise_list[0]][0][\"trials_q\"]))\n",
    "# print(\"episode_q dim\", len(exp_dic[algorithms[1]][noise_list[0]][0][\"trials_q\"][0]))"
   ]
  },
  {
   "cell_type": "code",
   "execution_count": 32,
   "metadata": {},
   "outputs": [],
   "source": [
    "# exp_dic[\"PF\"][noise_list[0]][0.7][\"trials_q\"][0][2998]"
   ]
  },
  {
   "cell_type": "code",
   "execution_count": 33,
   "metadata": {},
   "outputs": [],
   "source": [
    "window_size = 20\n",
    "thresholds = [20, 40, 60]\n",
    "# thresholds = [9, 17, 25]"
   ]
  },
  {
   "cell_type": "code",
   "execution_count": 34,
   "metadata": {},
   "outputs": [],
   "source": [
    "new_exp_dic = {}\n",
    "new_exp_dic = {\"Q\": {}, \"Q($\\lambda$)\": {}, \"SF\": {}, \"PF\": {}, \"params\": params}\n",
    "for agent_type in algorithms:\n",
    "    new_exp_dic[agent_type] = {}\n",
    "    for noise_level in noise_list:\n",
    "        new_exp_dic[agent_type][noise_level] = {}\n",
    "        if agent_type in [\"Q\", \"SF\"]:\n",
    "            new_exp_dic[agent_type][noise_level][0] = {}\n",
    "            rewards = exp_dic[agent_type][noise_level][0][\"trials_reward\"]\n",
    "            steps = exp_dic[agent_type][noise_level][0][\"trials_step\"]\n",
    "            #            q_value = exp_dic[agent_type][noise_level][0][\"trials_q\"]\n",
    "            new_exp_dic[agent_type][noise_level][0][\"mean_rewards\"] = (\n",
    "                mean_across_trials(rewards)\n",
    "            )\n",
    "            new_exp_dic[agent_type][noise_level][0][\"std_rewards\"] = std_across_trials(\n",
    "                rewards\n",
    "            )\n",
    "            new_exp_dic[agent_type][noise_level][0][\"last_reward\"] = get_last_reward(\n",
    "                rewards\n",
    "            )\n",
    "            new_exp_dic[agent_type][noise_level][0][\"mean_step_length\"] = (\n",
    "                mean_across_trials(steps)\n",
    "            )\n",
    "            new_exp_dic[agent_type][noise_level][0][\"std_step_length\"] = (\n",
    "                std_across_trials(steps)\n",
    "            )\n",
    "            try:\n",
    "                new_exp_dic[agent_type][noise_level][0][\"mean_q\"] = mean_across_trials(\n",
    "                    q_value\n",
    "                )\n",
    "                new_exp_dic[agent_type][noise_level][0][\"std_q\"] = std_across_trials(\n",
    "                    q_value\n",
    "                )\n",
    "            except:\n",
    "                pass\n",
    "            new_exp_dic[agent_type][noise_level][0][\"mean_epi_step\"] = (\n",
    "                mean_across_episode(steps)\n",
    "            )\n",
    "            ma_step = moving_average_across_trials(steps, window_size)\n",
    "            new_exp_dic[agent_type][noise_level][0][\"mean_ma_step\"] = (\n",
    "                mean_across_trials(ma_step)\n",
    "            )\n",
    "            new_exp_dic[agent_type][noise_level][0][\"std_ma_step\"] = std_across_trials(\n",
    "                ma_step\n",
    "            )\n",
    "            new_exp_dic[agent_type][noise_level][0][\"last_ma_step\"] = get_last_reward(\n",
    "                ma_step\n",
    "            )\n",
    "            new_exp_dic[agent_type][noise_level][0][\"mean_dStep_dEpi\"] = (\n",
    "                mean_across_trials(\n",
    "                    get_dStep_dEpi(steps, window_size=window_size, dEpi=1)\n",
    "                )\n",
    "            )\n",
    "            new_exp_dic[agent_type][noise_level][0][\"std_dStep_dEpi\"] = (\n",
    "                std_across_trials(\n",
    "                    get_dStep_dEpi(steps, window_size=window_size, dEpi=1)\n",
    "                )\n",
    "            )\n",
    "            new_exp_dic[agent_type][noise_level][0][\"early_dStep_dEpi\"] = (\n",
    "                get_dStep_dEpi(steps, window_size=window_size, dEpi=1)[:, :450]\n",
    "            )\n",
    "            for threshold in thresholds:\n",
    "                new_exp_dic[agent_type][noise_level][0][\n",
    "                    \"threshold_\" + str(threshold)\n",
    "                ] = step_to_below_threshold_across_trials(steps, threshold, window_size)\n",
    "\n",
    "        elif agent_type in [\"Q($\\lambda$)\", \"PF\"]:\n",
    "            for lambda_level in lambda_list:\n",
    "                new_exp_dic[agent_type][noise_level][lambda_level] = {}\n",
    "            for lambda_level in lambda_list:\n",
    "                rewards = exp_dic[agent_type][noise_level][lambda_level][\n",
    "                    \"trials_reward\"\n",
    "                ]\n",
    "                steps = exp_dic[agent_type][noise_level][lambda_level][\"trials_step\"]\n",
    "                #               q_value = exp_dic[agent_type][noise_level][lambda_level][\"trials_q\"]\n",
    "                new_exp_dic[agent_type][noise_level][lambda_level][\"mean_rewards\"] = (\n",
    "                    mean_across_trials(rewards)\n",
    "                )\n",
    "                new_exp_dic[agent_type][noise_level][lambda_level][\"std_rewards\"] = (\n",
    "                    std_across_trials(rewards)\n",
    "                )\n",
    "                new_exp_dic[agent_type][noise_level][lambda_level][\"last_reward\"] = (\n",
    "                    get_last_reward(rewards)\n",
    "                )\n",
    "                new_exp_dic[agent_type][noise_level][lambda_level][\n",
    "                    \"mean_step_length\"\n",
    "                ] = mean_across_trials(steps)\n",
    "                new_exp_dic[agent_type][noise_level][lambda_level][\n",
    "                    \"std_step_length\"\n",
    "                ] = std_across_trials(steps)\n",
    "                try:\n",
    "                    new_exp_dic[agent_type][noise_level][lambda_level][\"mean_q\"] = (\n",
    "                        mean_across_trials(q_value)\n",
    "                    )\n",
    "                    new_exp_dic[agent_type][noise_level][lambda_level][\"std_q\"] = (\n",
    "                        std_across_trials(q_value)\n",
    "                    )\n",
    "                except:\n",
    "                    pass\n",
    "\n",
    "                new_exp_dic[agent_type][noise_level][lambda_level][\"mean_epi_step\"] = (\n",
    "                    mean_across_episode(steps)\n",
    "                )\n",
    "                ma_step = moving_average_across_trials(steps, window_size)\n",
    "                new_exp_dic[agent_type][noise_level][lambda_level][\"mean_ma_step\"] = (\n",
    "                    mean_across_trials(ma_step)\n",
    "                )\n",
    "                new_exp_dic[agent_type][noise_level][lambda_level][\"std_ma_step\"] = (\n",
    "                    std_across_trials(ma_step)\n",
    "                )\n",
    "                new_exp_dic[agent_type][noise_level][lambda_level][\"last_ma_step\"] = (\n",
    "                    get_last_reward(ma_step)\n",
    "                )\n",
    "                new_exp_dic[agent_type][noise_level][lambda_level][\n",
    "                    \"mean_dStep_dEpi\"\n",
    "                ] = mean_across_trials(\n",
    "                    get_dStep_dEpi(steps, window_size=window_size, dEpi=1)\n",
    "                )\n",
    "                new_exp_dic[agent_type][noise_level][lambda_level][\"std_dStep_dEpi\"] = (\n",
    "                    std_across_trials(\n",
    "                        get_dStep_dEpi(steps, window_size=window_size, dEpi=1)\n",
    "                    )\n",
    "                )\n",
    "                new_exp_dic[agent_type][noise_level][lambda_level][\n",
    "                    \"early_dStep_dEpi\"\n",
    "                ] = get_dStep_dEpi(steps, window_size=window_size, dEpi=1)[:, :450]\n",
    "                for threshold in thresholds:\n",
    "                    new_exp_dic[agent_type][noise_level][lambda_level][\n",
    "                        \"threshold_\" + str(threshold)\n",
    "                    ] = step_to_below_threshold_across_trials(\n",
    "                        steps, threshold, window_size\n",
    "                    )"
   ]
  },
  {
   "cell_type": "code",
   "execution_count": 35,
   "metadata": {},
   "outputs": [
    {
     "data": {
      "text/plain": [
       "dict_keys([0.7, 0.8, 0.9])"
      ]
     },
     "execution_count": 35,
     "metadata": {},
     "output_type": "execute_result"
    }
   ],
   "source": [
    "new_exp_dic[\"PF\"][0.05].keys()"
   ]
  },
  {
   "cell_type": "code",
   "execution_count": 36,
   "metadata": {},
   "outputs": [],
   "source": [
    "with open(save_file_name, \"wb\") as f:\n",
    "    pickle.dump(new_exp_dic, f, pickle.HIGHEST_PROTOCOL)"
   ]
  },
  {
   "cell_type": "code",
   "execution_count": null,
   "metadata": {},
   "outputs": [],
   "source": []
  },
  {
   "cell_type": "code",
   "execution_count": null,
   "metadata": {},
   "outputs": [],
   "source": []
  },
  {
   "cell_type": "code",
   "execution_count": null,
   "metadata": {},
   "outputs": [],
   "source": []
  },
  {
   "cell_type": "code",
   "execution_count": null,
   "metadata": {},
   "outputs": [],
   "source": []
  },
  {
   "cell_type": "code",
   "execution_count": null,
   "metadata": {},
   "outputs": [],
   "source": []
  },
  {
   "cell_type": "code",
   "execution_count": null,
   "metadata": {},
   "outputs": [],
   "source": []
  },
  {
   "cell_type": "code",
   "execution_count": null,
   "metadata": {},
   "outputs": [],
   "source": []
  },
  {
   "cell_type": "code",
   "execution_count": null,
   "metadata": {},
   "outputs": [],
   "source": []
  },
  {
   "cell_type": "code",
   "execution_count": null,
   "metadata": {},
   "outputs": [],
   "source": []
  },
  {
   "cell_type": "code",
   "execution_count": null,
   "metadata": {},
   "outputs": [],
   "source": []
  },
  {
   "cell_type": "code",
   "execution_count": null,
   "metadata": {},
   "outputs": [],
   "source": []
  },
  {
   "cell_type": "code",
   "execution_count": null,
   "metadata": {},
   "outputs": [],
   "source": []
  }
 ],
 "metadata": {
  "kernelspec": {
   "display_name": "pf_noise",
   "language": "python",
   "name": "python3"
  },
  "language_info": {
   "codemirror_mode": {
    "name": "ipython",
    "version": 3
   },
   "file_extension": ".py",
   "mimetype": "text/x-python",
   "name": "python",
   "nbconvert_exporter": "python",
   "pygments_lexer": "ipython3",
   "version": "3.11.5"
  }
 },
 "nbformat": 4,
 "nbformat_minor": 2
}
